{
 "cells": [
  {
   "cell_type": "markdown",
   "id": "5de8aada-3ed6-4f7c-81b5-b2111a84df88",
   "metadata": {},
   "source": [
    "## Python Data Types\n",
    "\r",
    "- Data types in Python define the kind of value a variable can hold and the operations that can be performed on it.\n",
    "- It Defines what type of data we are going to store in a variable\n",
    "- The data stored in memory can be of many types\n",
    "- Python has various built-in data types\n",
    "  y#### Data Types Examples\n",
    "m Numeric        -->    int, float, complex\n",
    " String         -->    str\n",
    " Sequence       -->    list, tuple, range\n",
    " Mappig         -->    dict\n",
    " Boolean        -->    bool\n",
    " Set            -->    set\n",
    " \n",
    "## Python Numbers\n",
    "\r",
    "- Numbers in Python represent numerical values used for mathematical operations and calculations.\n",
    "- They are a fundamental data type that forms the backbone of many Python programs.\n",
    "- Python supports three primary number types: There are three numeric types in Python:\n",
    "    - int\n",
    "    - float\n",
    "    - complex\n",
    "- 1.Integers (int) : Whole numbers without decimal points, such as -6, 0, 6, 100.\n",
    "- 2.Floating-point numbers (float) : Real numbers with decimal points, like 3.14, -2.5, 0.0.\n",
    "- 3.Complex numbers : Numbers with both real and imaginary parts, represented as a + bj, where a and b are floats, and j is the imaginary unit.\n",
    "Variables of numeric types are created when you assign a value to them:e to them: -->    set"
   ]
  },
  {
   "cell_type": "code",
   "execution_count": 32,
   "id": "ba777790-2406-43f5-b28f-da33f49bff3a",
   "metadata": {},
   "outputs": [],
   "source": [
    "x = 1    # int\n",
    "y = 2.8  # float\n",
    "z = 1j   # 1+6j #complex # real number + imaginary number"
   ]
  },
  {
   "cell_type": "markdown",
   "id": "f68a64c0-c6bd-408f-96b6-547c5584cba4",
   "metadata": {},
   "source": [
    "To verify the type of any object in Python, use the type() function:\r\n"
   ]
  },
  {
   "cell_type": "code",
   "execution_count": 34,
   "id": "b00331ae-6ede-4250-a181-0ce5477aa9fb",
   "metadata": {},
   "outputs": [
    {
     "name": "stdout",
     "output_type": "stream",
     "text": [
      "<class 'int'>\n",
      "<class 'float'>\n",
      "<class 'complex'>\n"
     ]
    }
   ],
   "source": [
    "print(type(x))\n",
    "print(type(y))\n",
    "print(type(z))"
   ]
  },
  {
   "cell_type": "markdown",
   "id": "3c4c834a-67fb-4498-bb40-aeead1bddcdf",
   "metadata": {},
   "source": [
    "## Int\n",
    "\n",
    "Int, or integer, is a whole number, positive or negative, without decimals, of unlimited length."
   ]
  },
  {
   "cell_type": "code",
   "execution_count": 36,
   "id": "7f1b7f0a-446e-4074-9c99-4e6321864a0e",
   "metadata": {},
   "outputs": [
    {
     "name": "stdout",
     "output_type": "stream",
     "text": [
      "<class 'int'>\n",
      "<class 'int'>\n",
      "<class 'int'>\n",
      "<class 'int'>\n",
      "<class 'int'>\n",
      "<class 'int'>\n",
      "<class 'int'>\n",
      "<class 'int'>\n",
      "<class 'int'>\n",
      "<class 'int'>\n",
      "<class 'int'>\n",
      "<class 'int'>\n",
      "<class 'int'>\n"
     ]
    }
   ],
   "source": [
    "a = 71\n",
    "b = 33333333\n",
    "c = 35656222554887711\n",
    "d = -3255522\n",
    "e = -473728282225647389\n",
    "f = 34527263\n",
    "g = 1\n",
    "h = -0\n",
    "i = 571\n",
    "j = 8668376863478398373\n",
    "k = 67388366645567\n",
    "l = 1111111111\n",
    "m = 56254852\n",
    "\n",
    "print(type(a))\n",
    "print(type(b))\n",
    "print(type(c))\n",
    "print(type(d))\n",
    "print(type(e))\n",
    "print(type(f))\n",
    "print(type(g))\n",
    "print(type(h))\n",
    "print(type(i))\n",
    "print(type(j))\n",
    "print(type(k))\n",
    "print(type(l))\n",
    "print(type(m))"
   ]
  },
  {
   "cell_type": "markdown",
   "id": "9c6df75a-9369-4863-9e7d-c5f37673921b",
   "metadata": {},
   "source": [
    "### Float\n",
    "\n",
    "Float, or \"floating point number\" is a number, positive or negative, containing one or more decimals."
   ]
  },
  {
   "cell_type": "code",
   "execution_count": 38,
   "id": "d690079a-9a8f-4ad3-bc25-b69c4ba92c0e",
   "metadata": {},
   "outputs": [
    {
     "name": "stdout",
     "output_type": "stream",
     "text": [
      "<class 'float'>\n",
      "<class 'float'>\n",
      "<class 'float'>\n",
      "<class 'float'>\n",
      "<class 'float'>\n",
      "<class 'float'>\n",
      "<class 'float'>\n",
      "<class 'float'>\n",
      "<class 'float'>\n",
      "<class 'float'>\n",
      "<class 'float'>\n",
      "<class 'float'>\n",
      "<class 'float'>\n"
     ]
    }
   ],
   "source": [
    "a = 1.10\n",
    "b = 1.0\n",
    "c = -35.59\n",
    "d = -71.10\n",
    "e = 44.444444\n",
    "f = 452627.8595738\n",
    "g = 0.000000\n",
    "h = 55.6452628\n",
    "i = 5637282.0986542\n",
    "j = 6483.00976321\n",
    "k = 647376242.98463535722\n",
    "l = 46827254.947361\n",
    "m = 457273.784386\n",
    "\n",
    "print(type(a))\n",
    "print(type(b))\n",
    "print(type(c))\n",
    "print(type(d))\n",
    "print(type(e))\n",
    "print(type(f))\n",
    "print(type(g))\n",
    "print(type(h))\n",
    "print(type(i))\n",
    "print(type(j))\n",
    "print(type(k))\n",
    "print(type(l))\n",
    "print(type(m))"
   ]
  },
  {
   "cell_type": "markdown",
   "id": "c2b4a0c1-8dd5-47cb-bbb3-bc3c176dd770",
   "metadata": {},
   "source": [
    "Float can also be scientific numbers with an \"e\" to indicate the power of 10.\r\n"
   ]
  },
  {
   "cell_type": "code",
   "execution_count": 40,
   "id": "8e4b6099-f7b1-4e3d-81c3-d8e945ed7bb7",
   "metadata": {},
   "outputs": [
    {
     "name": "stdout",
     "output_type": "stream",
     "text": [
      "<class 'float'>\n",
      "<class 'float'>\n",
      "<class 'float'>\n"
     ]
    }
   ],
   "source": [
    "x = 35e3\n",
    "y = 12E4\n",
    "z = -87.7e100\n",
    "\n",
    "print(type(x))\n",
    "print(type(y))\n",
    "print(type(z))"
   ]
  },
  {
   "cell_type": "markdown",
   "id": "3b806d82-e96e-420e-a61f-a587fb5991b0",
   "metadata": {},
   "source": [
    "# Complex\n",
    "## Complex numbers are written with a \"j\" as the imaginary part:"
   ]
  },
  {
   "cell_type": "code",
   "execution_count": 42,
   "id": "6c0ab070-8714-4b05-851a-7a84426b24ec",
   "metadata": {},
   "outputs": [
    {
     "name": "stdout",
     "output_type": "stream",
     "text": [
      "<class 'complex'>\n",
      "<class 'complex'>\n",
      "<class 'complex'>\n",
      "<class 'complex'>\n",
      "<class 'complex'>\n",
      "<class 'complex'>\n",
      "<class 'complex'>\n",
      "<class 'complex'>\n",
      "<class 'complex'>\n",
      "<class 'complex'>\n",
      "<class 'complex'>\n",
      "<class 'complex'>\n",
      "<class 'complex'>\n"
     ]
    }
   ],
   "source": [
    "a = 2 + 3j\n",
    "b = -4 + 5j\n",
    "c = 7 - 2j\n",
    "d = 1 + 6j\n",
    "e = -5 - 6j\n",
    "f = 3 + 5j\n",
    "g = 5j\n",
    "h = -5j\n",
    "i = 3 + 5j\n",
    "j = 10 + 35j\n",
    "k = 3/2 + 1/4j\n",
    "l = -1.5 - 2.7j\n",
    "m = 2 + 13j\n",
    "\n",
    "print(type(a))\n",
    "print(type(b))\n",
    "print(type(c))\n",
    "print(type(d))\n",
    "print(type(e))\n",
    "print(type(f))\n",
    "print(type(g))\n",
    "print(type(h))\n",
    "print(type(i))\n",
    "print(type(j))\n",
    "print(type(k))\n",
    "print(type(l))\n",
    "print(type(m))"
   ]
  },
  {
   "cell_type": "markdown",
   "id": "92ac5e7c-6cd8-445f-b089-b10bacb3c61d",
   "metadata": {},
   "source": [
    "# Type Conversion\n",
    "- You can convert from one type to another with the int(), float(), and complex() methods:\n",
    "- NOTE: You can't convert complex numbers into another number type\n",
    "- In this Type Conversion there are 2 types of conversion's 1.Implicit Conversion 2. Explicit Conversion\n",
    "## convert from one type to another :her:"
   ]
  },
  {
   "cell_type": "code",
   "execution_count": 44,
   "id": "20ed578f-ff2d-4379-835b-89dd48a32d21",
   "metadata": {},
   "outputs": [
    {
     "name": "stdout",
     "output_type": "stream",
     "text": [
      "1.0\n",
      "2\n",
      "(1+0j)\n",
      "(2.844+0j)\n",
      "<class 'float'>\n",
      "<class 'int'>\n",
      "<class 'complex'>\n",
      "<class 'complex'>\n"
     ]
    }
   ],
   "source": [
    "x = 1    # int\n",
    "y = 2.844  # float\n",
    "z = 1j   # complex\n",
    "\n",
    "#convert from int to float:\n",
    "a = float(x)\n",
    "\n",
    "#convert from float to int:\n",
    "b = int(y)\n",
    "\n",
    "#convert from int to complex:\n",
    "c = complex(x)\n",
    "\n",
    "#convert from float to complex:\n",
    "d = complex(y)\n",
    "\n",
    "print(a)\n",
    "print(b)\n",
    "print(c)\n",
    "print(d)\n",
    "\n",
    "print(type(a))\n",
    "print(type(b))\n",
    "print(type(c))\n",
    "print(type(d))"
   ]
  },
  {
   "cell_type": "code",
   "execution_count": 45,
   "id": "28c320c2-d647-40f7-a353-cc0c883b983d",
   "metadata": {},
   "outputs": [
    {
     "ename": "TypeError",
     "evalue": "float() argument must be a string or a real number, not 'complex'",
     "output_type": "error",
     "traceback": [
      "\u001b[1;31m---------------------------------------------------------------------------\u001b[0m",
      "\u001b[1;31mTypeError\u001b[0m                                 Traceback (most recent call last)",
      "Cell \u001b[1;32mIn[45], line 3\u001b[0m\n\u001b[0;32m      1\u001b[0m \u001b[38;5;66;03m#Note: You cannot convert complex numbers into another number type.\u001b[39;00m\n\u001b[0;32m      2\u001b[0m y \u001b[38;5;241m=\u001b[39m \u001b[38;5;241m1\u001b[39m\u001b[38;5;241m+\u001b[39m\u001b[38;5;241m0\u001b[39mj\n\u001b[1;32m----> 3\u001b[0m c \u001b[38;5;241m=\u001b[39m \u001b[38;5;28mfloat\u001b[39m(y)\n\u001b[0;32m      4\u001b[0m c\n",
      "\u001b[1;31mTypeError\u001b[0m: float() argument must be a string or a real number, not 'complex'"
     ]
    }
   ],
   "source": [
    "#Note: You cannot convert complex numbers into another number type.\n",
    "y = 1+0j\n",
    "c = float(y)\n",
    "c"
   ]
  },
  {
   "cell_type": "code",
   "execution_count": 58,
   "id": "f3705540-ce35-45a5-85aa-3293eb5a9432",
   "metadata": {},
   "outputs": [
    {
     "name": "stdout",
     "output_type": "stream",
     "text": [
      "10.0\n",
      "-454.0\n",
      "0.0\n",
      "1232683635.0\n",
      "-4638262526.0\n",
      "10.0\n",
      "-3563736.0\n",
      "363662.0\n",
      "71.0\n",
      "-7489.0\n",
      "9876543210.0\n",
      "-46347.0\n",
      "-99877.0\n"
     ]
    }
   ],
   "source": [
    "# 10 Examples of Convert from int to float\n",
    "\n",
    "num1 = 10\n",
    "num2 = -454\n",
    "num3 = 0\n",
    "num4 = 1232683635\n",
    "num5 = -4638262526\n",
    "x = 10\n",
    "y = -3563736\n",
    "z = 363662\n",
    "a1 = 71\n",
    "b2 = -7489\n",
    "c3 = 9876543210\n",
    "d4 = -46347\n",
    "e5 = -99877\n",
    "\n",
    "a = float(num1)\n",
    "b = float(num2)\n",
    "c = float(num3)\n",
    "d = float(num4)\n",
    "e = float(num5)\n",
    "f = float(x)\n",
    "g = float(y)\n",
    "h = float(z)\n",
    "i = float(a1)\n",
    "j = float(b2)\n",
    "k = float(c3)\n",
    "l = float(d4)\n",
    "m = float(e5)\n",
    "\n",
    "\n",
    "print(a)\n",
    "print(b)\n",
    "print(c)\n",
    "print(d)\n",
    "print(e)\n",
    "print(f)\n",
    "print(g)\n",
    "print(h)\n",
    "print(i)\n",
    "print(j)\n",
    "print(k)\n",
    "print(l)\n",
    "print(m)"
   ]
  },
  {
   "cell_type": "code",
   "execution_count": 56,
   "id": "a3669bfa-13fb-46d0-b4d8-9cd49c4c1034",
   "metadata": {},
   "outputs": [
    {
     "name": "stdout",
     "output_type": "stream",
     "text": [
      "7\n",
      "55\n",
      "46628\n",
      "85\n",
      "27\n",
      "76\n",
      "21\n",
      "-846\n",
      "463\n",
      "4683\n",
      "45699\n",
      "7555\n",
      "457222\n"
     ]
    }
   ],
   "source": [
    "# 10 Examples of convert from float to int\n",
    "\n",
    "x = 7.0\n",
    "y = 55.777\n",
    "z = 46628.83998\n",
    "result = 14.22 + 71.36\n",
    "value = 6.47 * 4.3\n",
    "weight = 76.7\n",
    "age = 21.4\n",
    "a1 = -846.2782\n",
    "b1 = 463.7363\n",
    "c1 = 4683.46782\n",
    "d4 = 45699.8363\n",
    "e5 = 7555.467828\n",
    "f6 = 457222.2222\n",
    "\n",
    "a = int(x)\n",
    "b = int(y)\n",
    "c = int(z)\n",
    "d = int(result)\n",
    "e = int(value)\n",
    "f = int(weight)\n",
    "g = int(age)\n",
    "h = int(a1)\n",
    "i = int(b1)\n",
    "j = int(c1)\n",
    "k = int(d4)\n",
    "l = int(e5)\n",
    "m = int(f6)\n",
    "\n",
    "print(a)\n",
    "print(b)\n",
    "print(c)\n",
    "print(d)\n",
    "print(e)\n",
    "print(f)\n",
    "print(g)\n",
    "print(h)\n",
    "print(i)\n",
    "print(j)\n",
    "print(k)\n",
    "print(l)\n",
    "print(m)"
   ]
  },
  {
   "cell_type": "code",
   "execution_count": 54,
   "id": "3e85c641-2982-4ba5-92ac-223fcd67a091",
   "metadata": {},
   "outputs": [
    {
     "name": "stdout",
     "output_type": "stream",
     "text": [
      "(5+0j)\n",
      "(-10+0j)\n",
      "0j\n",
      "(-987654321+0j)\n",
      "(1234567890+0j)\n",
      "(25+0j)\n",
      "(1000+0j)\n",
      "(22+0j)\n",
      "(12+0j)\n",
      "(6+0j)\n",
      "(59+0j)\n",
      "(777+0j)\n",
      "(4562627+0j)\n"
     ]
    }
   ],
   "source": [
    "#10 Examples of convert  from int to complex\n",
    "num1 = 5\n",
    "num2 = -10\n",
    "num3 = 0\n",
    "num4 = -987654321\n",
    "num5 = 1234567890\n",
    "x = 25\n",
    "y = 1000\n",
    "result = 15 + 7\n",
    "value = 3 * 4\n",
    "quotient = 20 // 3\n",
    "num6 = 59\n",
    "num7 = 777\n",
    "num8 = 4562627\n",
    "\n",
    "a = complex(num1)\n",
    "b = complex(num2)\n",
    "c = complex(num3)\n",
    "d = complex(num4)\n",
    "e = complex(num5)\n",
    "f = complex(x)\n",
    "g = complex(y)\n",
    "h = complex(result)\n",
    "i = complex(value)\n",
    "j = complex(quotient)\n",
    "k = complex(num6)\n",
    "l = complex(num7)\n",
    "m = complex(num8)\n",
    "\n",
    "print(a)\n",
    "print(b)\n",
    "print(c)\n",
    "print(d)\n",
    "print(e)\n",
    "print(f)\n",
    "print(g)\n",
    "print(h)\n",
    "print(i)\n",
    "print(j)\n",
    "print(k)\n",
    "print(l)\n",
    "print(m)"
   ]
  },
  {
   "cell_type": "code",
   "execution_count": 52,
   "id": "1e64da78-d559-4ad6-b1a0-489eb94d04f2",
   "metadata": {},
   "outputs": [
    {
     "name": "stdout",
     "output_type": "stream",
     "text": [
      "(3.14+0j)\n",
      "(-2.718+0j)\n",
      "(0.999+0j)\n",
      "(1234567890.123+0j)\n",
      "(-987654321.456+0j)\n",
      "(5.7+0j)\n",
      "(-10.3+0j)\n",
      "(3.14+0j)\n",
      "(-2.718+0j)\n",
      "(22.6+0j)\n",
      "(15.959999999999999+0j)\n",
      "(5.7+0j)\n",
      "(-10.3+0j)\n",
      "(1234567890.123+0j)\n",
      "(-987654321.456+0j)\n",
      "0j\n"
     ]
    }
   ],
   "source": [
    "# 10 Examples of convert from float to complex\n",
    "\n",
    "float_num1 = 3.14\n",
    "float_num2 = -2.718\n",
    "float_num3 = 0.999\n",
    "float_num4 = 1234567890.123\n",
    "float_num5 = -987654321.456\n",
    "x = 5.7\n",
    "y = -10.3\n",
    "float_num6 = 3.14\n",
    "float_num7 = -2.718\n",
    "result = 15.6 + 7.\n",
    "value = 3.8 * 4.2\n",
    "float_num8 = 5.7\n",
    "float_num9 = -10.3\n",
    "float_num10 = 1234567890.123\n",
    "float_num11 = -987654321.456\n",
    "float_num12 = 0.0\n",
    "\n",
    "a = complex(float_num1)\n",
    "b = complex(float_num2)\n",
    "c = complex(float_num3)\n",
    "d = complex(float_num4)\n",
    "e = complex(float_num5)\n",
    "f = complex(x)\n",
    "g = complex(y)\n",
    "h = complex(float_num6)\n",
    "i = complex(float_num7)\n",
    "j = complex(result)\n",
    "k = complex(value)\n",
    "l = complex(float_num8)\n",
    "m = complex(float_num9)\n",
    "n = complex(float_num10)\n",
    "o = complex(float_num11)\n",
    "p = complex(float_num12)\n",
    "\n",
    "print(a)\n",
    "print(b)\n",
    "print(c)\n",
    "print(d)\n",
    "print(e)\n",
    "print(f)\n",
    "print(g)\n",
    "print(h)\n",
    "print(i)\n",
    "print(j)\n",
    "print(k)\n",
    "print(l)\n",
    "print(m)\n",
    "print(n)\n",
    "print(o)\n",
    "print(p)"
   ]
  },
  {
   "cell_type": "markdown",
   "id": "2f4d95a7-d19f-4c9c-8965-8f4d27ba1d51",
   "metadata": {},
   "source": [
    "# Python Booleans\n",
    "- Booleans represent one of two values : True or False\n",
    "- In programming you often need to know if an expression is True or False.\n",
    "- You can evaluate any expression in Python, and get one of two answers, True or False.\n",
    "- When you compare two values, the expression is evaluated and Python returns the Boolean answer:\n",
    "## Key Points\n",
    "- 1.Values : There are only two possible Boolean values True and False.\n",
    "- 2.Case-sensitive : True and False must be capitalized.\n",
    "- 3.Usage : Booleans are used in conditional statements (like if and else), loops, and logical operations.\n",
    "- 4.Conversion : Other data types can be converted to Booleans using the bool() function.on.ction.on."
   ]
  },
  {
   "cell_type": "code",
   "execution_count": null,
   "id": "68b4ae36-e193-41d3-8c64-740c0c735c79",
   "metadata": {},
   "outputs": [],
   "source": [
    "print(10 > 9)\n",
    "print(10 == 9)\n",
    "print(10 < 9)"
   ]
  },
  {
   "cell_type": "markdown",
   "id": "1143c41b-09fa-4b3b-ab84-100277cc209d",
   "metadata": {},
   "source": [
    "# bool() - Function\r",
    "- The bool() function in Python is used to convert a value into a Boolean value, which can be either True or False.."
   ]
  },
  {
   "cell_type": "code",
   "execution_count": 50,
   "id": "a1745321-4608-45cb-b820-7434a970aa46",
   "metadata": {},
   "outputs": [
    {
     "name": "stdout",
     "output_type": "stream",
     "text": [
      "False\n",
      "True\n",
      "True\n",
      "True\n",
      "True\n",
      "True\n",
      "True\n",
      "True\n",
      "True\n",
      "False\n",
      "<class 'bool'>\n",
      "<class 'bool'>\n",
      "<class 'bool'>\n",
      "<class 'bool'>\n",
      "<class 'bool'>\n",
      "<class 'bool'>\n",
      "<class 'bool'>\n",
      "<class 'bool'>\n",
      "<class 'bool'>\n",
      "<class 'bool'>\n"
     ]
    }
   ],
   "source": [
    "# 10 Examples on bool() - Function\n",
    "\n",
    "x = 0.0\n",
    "y = 55.777\n",
    "z = 46628.83998\n",
    "result1 = 14.22 + 71.36\n",
    "value_1 = 6.47 * 4.3\n",
    "weight = 76.7\n",
    "result2 = 15 + 7\n",
    "value = 3 * 4\n",
    "quotient = 20 // 3\n",
    "num1 = 0\n",
    "\n",
    "\n",
    "print(bool(x))\n",
    "print(bool(y))\n",
    "print(bool(z))\n",
    "print(bool(result1))\n",
    "print(bool(value))\n",
    "print(bool(weight))\n",
    "print(bool(result2))\n",
    "print(bool(value_1))\n",
    "print(bool(quotient))\n",
    "print(bool(num1))\n",
    "\n",
    "print(type(bool(x)))\n",
    "print(type(bool(y)))\n",
    "print(type(bool(z)))\n",
    "print(type(bool(result1)))\n",
    "print(type(bool(value)))\n",
    "print(type(bool(weight)))\n",
    "print(type(bool(result2)))\n",
    "print(type(bool(value_1)))\n",
    "print(type(bool(quotient)))\n",
    "print(type(bool(num1)))"
   ]
  },
  {
   "cell_type": "code",
   "execution_count": null,
   "id": "dead81f1-31f8-40d7-abbf-bc675dee03a9",
   "metadata": {},
   "outputs": [],
   "source": []
  }
 ],
 "metadata": {
  "kernelspec": {
   "display_name": "Python 3 (ipykernel)",
   "language": "python",
   "name": "python3"
  },
  "language_info": {
   "codemirror_mode": {
    "name": "ipython",
    "version": 3
   },
   "file_extension": ".py",
   "mimetype": "text/x-python",
   "name": "python",
   "nbconvert_exporter": "python",
   "pygments_lexer": "ipython3",
   "version": "3.12.4"
  }
 },
 "nbformat": 4,
 "nbformat_minor": 5
}
