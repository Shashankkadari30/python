{
 "cells": [
  {
   "cell_type": "code",
   "execution_count": 2,
   "id": "4415d024-26cb-4e02-be50-48467a03beff",
   "metadata": {},
   "outputs": [
    {
     "name": "stdout",
     "output_type": "stream",
     "text": [
      "hello world\n"
     ]
    }
   ],
   "source": [
    "print(\"hello world\")"
   ]
  },
  {
   "cell_type": "code",
   "execution_count": 4,
   "id": "629f6c1d-74b6-4c97-b5e2-aebb904063db",
   "metadata": {},
   "outputs": [
    {
     "name": "stdout",
     "output_type": "stream",
     "text": [
      "python version: 3.12.4 | packaged by Anaconda, Inc. | (main, Jun 18 2024, 15:03:56) [MSC v.1929 64 bit (AMD64)]\n"
     ]
    }
   ],
   "source": [
    "import sys\n",
    "print(\"python version:\",sys.version)                                                            "
   ]
  },
  {
   "cell_type": "markdown",
   "id": "4cf3d600-bb24-4802-828b-b65a3c081362",
   "metadata": {},
   "source": [
    "#### PYTHON_INDENTATION \n",
    "- python refers to the spaces at the begining of code line \n",
    "- python uses indentation to indicate a block of code\n",
    "      ## key points about pyhton indentation:\n",
    "  ### whitespace matters:\n",
    "- unlike many other programming languages that use curly braces or keywords to define blocks of code, python uses indentation. this means spaces or tabs at the beginning of a line determine the level of nesting within a block.\n",
    "  ### consistant indentation:\n",
    "- you must be consistent with your indentation throughout your code. mixing tabs and spaces is not recommended and can lead to errors.\n",
    "  ### four spaces:\n",
    "- the standard convention is to use four spaces for each level of indentation.however,as long as you are consistent, you can use a different number of spaces or tabs\n",
    "  ### indentation errors:\n",
    "- id you don't indent your code properly, you will get an indentationerror.this is a common mistake for beginners.\n",
    "  e\n"
   ]
  },
  {
   "cell_type": "code",
   "execution_count": 12,
   "id": "c0fc216f-d7c8-4606-a5d0-7119d344b1c4",
   "metadata": {},
   "outputs": [],
   "source": [
    "if 2>5:\n",
    "    print(\"2 is greater than 5\")\n",
    "    #correct indentation "
   ]
  },
  {
   "cell_type": "code",
   "execution_count": 14,
   "id": "40f7f185-2bd3-475b-a2dd-dd809ad769d0",
   "metadata": {},
   "outputs": [
    {
     "ename": "IndentationError",
     "evalue": "expected an indented block after 'if' statement on line 1 (3610935089.py, line 2)",
     "output_type": "error",
     "traceback": [
      "\u001b[1;36m  Cell \u001b[1;32mIn[14], line 2\u001b[1;36m\u001b[0m\n\u001b[1;33m    print(\"2 is greater than 5\")\u001b[0m\n\u001b[1;37m    ^\u001b[0m\n\u001b[1;31mIndentationError\u001b[0m\u001b[1;31m:\u001b[0m expected an indented block after 'if' statement on line 1\n"
     ]
    }
   ],
   "source": [
    "if 2>5:\n",
    "print(\"2 is greater than 5\")\n",
    "   y = x + 2\n",
    "print(y)\n",
    "#incorrect indentation"
   ]
  },
  {
   "cell_type": "markdown",
   "id": "bd2d47a2-a55c-4a8b-a30a-0a427289d963",
   "metadata": {},
   "source": [
    "## python comments \n",
    "- comments can be used to explain python code\n",
    "- comments can be used to make the code more readable\n",
    "- comments start with #, and python will ignore them\n",
    "- in python, comments are lines of code that the interpreter ignores during execution. they are used to explain the code, making it more readable and understable to humans.\n",
    "### types of comments:\n",
    "- single-line comments: these starts with a # symbol and continue until the end of the line\n",
    " line."
   ]
  },
  {
   "cell_type": "code",
   "execution_count": null,
   "id": "7fa5b4d8-49a6-4497-b8f8-33fd380dd6c6",
   "metadata": {},
   "outputs": [],
   "source": [
    "# this is single line comment:\n",
    "x= 10 #this is also a single line comment"
   ]
  },
  {
   "cell_type": "markdown",
   "id": "f51bc4bc-dadb-4bc5-bc11-5929ec7c24d8",
   "metadata": {},
   "source": [
    "- multi-line comments: python doesn't have a specific syntax for multi-line comments. however, there are two common ways to achieve this: using mutliple single line comments:"
   ]
  },
  {
   "cell_type": "code",
   "execution_count": 22,
   "id": "9f3c2d82-4cd3-44e9-b3fb-47755844fed2",
   "metadata": {},
   "outputs": [],
   "source": [
    "        # This is a multi-line comment\n",
    "        # It spans multiple lines\n",
    "        # and explains the code below."
   ]
  },
  {
   "cell_type": "markdown",
   "id": "2e1fd66f-fcfd-495d-ae5f-ee54911e3bfd",
   "metadata": {},
   "source": [
    "- using triple-quoted strigs: while not technically comments, triple-quoted strings (both sinlge and double) can be used for multi-linecomments if they are not assigned to a variable."
   ]
  },
  {
   "cell_type": "code",
   "execution_count": 25,
   "id": "ddd4290f-ee40-4ea5-b229-02c1889be771",
   "metadata": {},
   "outputs": [
    {
     "data": {
      "text/plain": [
       "'\\n     This is another way to write\\n     multi-line comments in Python.\\n     '"
      ]
     },
     "execution_count": 25,
     "metadata": {},
     "output_type": "execute_result"
    }
   ],
   "source": [
    "   \"\"\"\n",
    "        This is another way to write\n",
    "        multi-line comments in Python.\n",
    "        \"\"\""
   ]
  },
  {
   "cell_type": "markdown",
   "id": "9ec93182-bf11-4880-afea-86e58a869402",
   "metadata": {},
   "source": [
    "# python keywords \n",
    "- python keywords are reserved words.\n",
    "- you cannot use them as constant or variable or any other identifier names\n",
    "- all the python keywords contain lowercase letters\n",
    "- python keywords are reserved words that have special meanings in the language.\n",
    "- they cannot be used as variable names,function names,or any other identifiers. here's a breakdown of python keywords and their  categories:\n",
    "### Control Flow Keywords:\n",
    "- if, elif, else: Used for conditional execution of code.\n",
    "- \r\n",
    "for, while: Used for looping through code block\n",
    "- break: Exits a loop prematurely.\n",
    "- continue: Skips to the next iteration of a loop.\n",
    "- pass: Placeholder that does nothing.\n",
    "### Data Type Keywords:\r",
    "- True, False: Boolean values representing true and false.\n",
    "- None: Represents the absence of a value.\n",
    "- Logical Operator Keywords: and: Logical AND operator, or: Logical OR operator, and not: Logical NOT operator.\n",
    "### Membership Operator Keywords:\r",
    "- in: Checks if a value is present in a sequence.\n",
    "- not in: Checks if a value is not present in a sequence\n",
    "### Identity Operator Keywords:\n",
    "- is: Checks if two variables refer to the same object.\n",
    "- is not: Checks if two variables refer to different objects.\n",
    "### Function and Class Keywords:\n",
    "- is: Checks if two variables refer to the same object.\n",
    "- is not: Checks if two variables refer to different objects.\n",
    "### Function and Class Keywords:\n",
    "- def: Defines a function.\n",
    "- class: Defines a class.\n",
    "- return: Returns a value from a function\n",
    "- yield: Used in generator functions to return values one at a time.\n",
    "- lambda: Creates anonymous functions.\r",
    "### Exception Handling Keywords:\n",
    "- try: Block of code to attempt, which may raise an exception.\n",
    "- except: Handles specific exceptions.\n",
    "- finally: Block of code that always runs, whether an exception occurred or not.\n",
    "- raise: Raises an exception manually.\n",
    "- Module and Import Keywords: import: Imports a module, from: Imports specific objects from a module, and as: Aliases an imported module or object.ly.\r",
    "### Other Keywords:\n",
    "- del: Deletes a variable or object.\n",
    "- global: Declares a variable as global.- nonlocal: Declares a variable as nonlocal.\n",
    "- assert: Used for debugging to check if a condition is true.\n",
    "- with: Used for context management.\n",
    "- async, await: Used for asynchronous programming.ming.\n",
    "### checking for Keywords:\n",
    "- You can use the keyword module to check if a string is a keyword:\r\n",
    "rd module to check if a string is a keyword:.ceor.hing."
   ]
  },
  {
   "cell_type": "code",
   "execution_count": 51,
   "id": "f17f98dd-83aa-43f4-bde2-87d59a6d342a",
   "metadata": {},
   "outputs": [
    {
     "name": "stdout",
     "output_type": "stream",
     "text": [
      "['False', 'None', 'True', 'and', 'as', 'assert', 'async', 'await', 'break', 'class', 'continue', 'def', 'del', 'elif', 'else', 'except', 'finally', 'for', 'from', 'global', 'if', 'import', 'in', 'is', 'lambda', 'nonlocal', 'not', 'or', 'pass', 'raise', 'return', 'try', 'while', 'with', 'yield']\n"
     ]
    },
    {
     "data": {
      "text/plain": [
       "35"
      ]
     },
     "execution_count": 51,
     "metadata": {},
     "output_type": "execute_result"
    }
   ],
   "source": [
    "import keyword\n",
    "python_keywords = keyword.kwlist\n",
    "print(python_keywords)\n",
    "len(python_keywords)"
   ]
  },
  {
   "cell_type": "code",
   "execution_count": null,
   "id": "941f135e-0975-406e-8803-c0a8d0392749",
   "metadata": {},
   "outputs": [],
   "source": []
  },
  {
   "cell_type": "code",
   "execution_count": null,
   "id": "cd37fdac-edd5-4469-9608-8057e21baa51",
   "metadata": {},
   "outputs": [],
   "source": [
    "\n"
   ]
  }
 ],
 "metadata": {
  "kernelspec": {
   "display_name": "Python 3 (ipykernel)",
   "language": "python",
   "name": "python3"
  },
  "language_info": {
   "codemirror_mode": {
    "name": "ipython",
    "version": 3
   },
   "file_extension": ".py",
   "mimetype": "text/x-python",
   "name": "python",
   "nbconvert_exporter": "python",
   "pygments_lexer": "ipython3",
   "version": "3.12.4"
  }
 },
 "nbformat": 4,
 "nbformat_minor": 5
}
