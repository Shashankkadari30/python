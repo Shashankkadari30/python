{
 "cells": [
  {
   "cell_type": "markdown",
   "id": "d2cc9e53-fe3c-4b1f-9221-5a556dd65433",
   "metadata": {},
   "source": [
    "# Python Variable (Identifier)\n",
    "- Variables in Python are like named containers that store data values. They are essential for storing information that your program needs to use.\n",
    "- In Python, a variable is a name given to memory location.it's essentially a container that holds data. This data can be of various types, such as numbers, text, or more complex structures.\n",
    "## Multi Words Variable Names\n",
    "### Camel Case:\n",
    "- Second and subsequent words are capitalized, to make word boundaries easier to see. (Presumably, it struck someone at some point that the capital letters strewn throughout the variable name vaguely resemble camel humps)\n",
    "- Example: numberOfCollegeGraduates\n",
    "### Pascal Case:\n",
    "- Identical to Camel Case, except the first word is also capitalized.\n",
    "- Example: NumberOfCollegeGraduates\n",
    "### Snake Case:\n",
    "- Words are separated by underscores.\n",
    "- nderscores.\r\n",
    "Example: number_of_coll\n",
    "### Key Points\n",
    "- Dynamic typing : This means the same variable can hold different data types at different times during program execution.\n",
    "- Assignment : Variables are assigned values using the equal sign (=).\n",
    "### Rules For Variables\n",
    "- Must start with a letter or underscore: my_variable, _secret are valid, but 123variable is not.\n",
    "- Can contain letters, numbers, and underscores : age25, user_name are valid.\n",
    "- Variables are not allowed Special Characters like @,$,&.. it's only accept under score (_)\n",
    "- Case-sensitive : age and Age are different variables.\n",
    "- Cannot be a reserved keyword : Avoid using Python keywords like if, else, for, etc.\n",
    "- Cannot Start with Digit 20 valid variable names"
   ]
  },
  {
   "cell_type": "markdown",
   "id": "ad48daf9-74d2-400c-885d-283970f8cef0",
   "metadata": {},
   "source": [
    "### create 20 valid variable names "
   ]
  },
  {
   "cell_type": "code",
   "execution_count": 16,
   "id": "cdf5744b-3f17-45c9-bb3b-ef558a0a5c85",
   "metadata": {},
   "outputs": [
    {
     "name": "stdout",
     "output_type": "stream",
     "text": [
      "20\n",
      "75.5\n",
      "10\n",
      "shashank\n",
      "Hydrabad\n",
      "Data Science\n",
      "True\n",
      "False\n",
      "['Apple', 'Banana', 'Mango', 'Kiwi']\n",
      "[1, 2, 3, 4, 5]\n",
      "(10, 10)\n",
      "('sahshank', 26, 'Hydrabad')\n",
      "{'name': 'shashank', 'age': '26', 'city': 'Hydrabad'}\n",
      "{'title': 'Pyhton', 'author': 'Guido van Rossum'}\n",
      "{1, 2, 3, 4}\n",
      "{'i', 'a', 'o', 'e', 'u'}\n",
      "{'Academy': 'Teks Academy', 'Coursename': 'Data Science', 'Lecturer': 'Vamsi Sir'}\n",
      "aurora \n",
      "Vamsi Sir\n",
      "{83, 52, 71}\n"
     ]
    }
   ],
   "source": [
    "#valid Variables\n",
    "age = 20\n",
    "weight = 75.5\n",
    "count = 10\n",
    "name = \"shashank\"\n",
    "city = \"Hydrabad\"\n",
    "message = \"Data Science\"\n",
    "is_student = True\n",
    "has_car = False\n",
    "fruits = [\"Apple\", \"Banana\", \"Mango\", \"Kiwi\"]\n",
    "numbers_list = [1,2,3,4,5]\n",
    "cooradiantes = (10,10)\n",
    "personal_info = (\"sahshank\",26,\"Hydrabad\")\n",
    "person = {\"name\": \"shashank\", \"age\": \"26\", \"city\": \"Hydrabad\"}\n",
    "book = {\"title\": \"Pyhton\", \"author\": \"Guido van Rossum\"}\n",
    "unique_numbers = {1,2,2,3,3,4}\n",
    "vowels = {\"a\", \"e\", \"i\", \"o\", \"u\"}\n",
    "deva = {\"Academy\": \"Teks Academy\", \"Coursename\": \"Data Science\", \"Lecturer\":\"Vamsi Sir\"}\n",
    "name_of_college = \"aurora \"\n",
    "teks_academy_143 = \"Vamsi Sir\"\n",
    "set_123 = {52, 71,83}\n",
    "\n",
    "print(age)\n",
    "print(weight)\n",
    "print(count)\n",
    "print(name)\n",
    "print(city)\n",
    "print(message)\n",
    "print(is_student)\n",
    "print(has_car)\n",
    "print(fruits)\n",
    "print(numbers_list)\n",
    "print(cooradiantes)\n",
    "print(personal_info)\n",
    "print(person)\n",
    "print(book)\n",
    "print(unique_numbers)\n",
    "print(vowels)\n",
    "print(deva)\n",
    "print(name_of_college)\n",
    "print(teks_academy_143)\n",
    "print(set_123)"
   ]
  },
  {
   "cell_type": "markdown",
   "id": "1c1ca82b-e87a-4c61-b563-8384214ca15c",
   "metadata": {},
   "source": [
    "### create 20 invalid variables "
   ]
  },
  {
   "cell_type": "code",
   "execution_count": 19,
   "id": "5a80bd81-fa27-4cd4-ada2-01c0f1ea8f41",
   "metadata": {},
   "outputs": [
    {
     "ename": "SyntaxError",
     "evalue": "invalid decimal literal (3581707572.py, line 1)",
     "output_type": "error",
     "traceback": [
      "\u001b[1;36m  Cell \u001b[1;32mIn[19], line 1\u001b[1;36m\u001b[0m\n\u001b[1;33m    1st_name = \"John\"\u001b[0m\n\u001b[1;37m    ^\u001b[0m\n\u001b[1;31mSyntaxError\u001b[0m\u001b[1;31m:\u001b[0m invalid decimal literal\n"
     ]
    }
   ],
   "source": [
    "1st_name = \"John\" \n",
    "-age = 30  \n",
    "my-variable = \"hello\"\n",
    "my variable = \"world\"\n",
    "class = \"Python\" \n",
    "for = 10 \n",
    "while = True \n",
    "if = False\n",
    "def = \"function\"  \n",
    "return = \"value\"  \n",
    "import = \"module\"  \n",
    "from = \"package\" \n",
    "global = \"scope\"\n",
    "nonlocal = \"scope\" \n",
    "lambda = \"function\" \n",
    "try = \"exception\" \n",
    "except = \"error\"  \n",
    "finally = \"always\" \n",
    "raise = \"exception\"\n",
    "@my-var = \"deva\"\n",
    "$FRUITS = \"Apple\""
   ]
  },
  {
   "cell_type": "markdown",
   "id": "c4614bc1-6540-4852-8ba6-3b7cf0e98338",
   "metadata": {},
   "source": [
    "### type function()\n",
    "- The type() function is mostly used for debugging purposes. Two different types of arguments can be passed to type() function, single and three arguments. If a single argument type(obj) is passed, it returns the type of the given object. If three argument types (object, bases, dict) are passed, it returns a new type object.."
   ]
  },
  {
   "cell_type": "code",
   "execution_count": 31,
   "id": "7156fc6a-2edd-44a1-bc5f-1667fd93a26d",
   "metadata": {},
   "outputs": [
    {
     "name": "stdout",
     "output_type": "stream",
     "text": [
      "<class 'int'>\n",
      "<class 'str'>\n",
      "<class 'float'>\n",
      "<class 'tuple'>\n",
      "<class 'set'>\n",
      "<class 'set'>\n"
     ]
    }
   ],
   "source": [
    "a = 71\n",
    "b = \"Data Science\"\n",
    "my_tuple = ('apple', 'banana', 'cherry')\n",
    "d = 3.14\n",
    "my_list = [1,2,3,4]\n",
    "my_set1 = {\"abc\" }\n",
    "my_set = {1, 2, 3}\n",
    "print(type(a))\n",
    "print(type(b))\n",
    "print(type(d))\n",
    "print(type(my_tuple))\n",
    "print(type(my_set1))\n",
    "print(type(my_set))"
   ]
  },
  {
   "cell_type": "markdown",
   "id": "640ca86b-8cc7-4a33-8681-2a6cde5474c9",
   "metadata": {},
   "source": [
    "## multiple Variable\n",
    "#### Many Values to Multiple Variables\n",
    "- Python allows you to assign values to multiple variables in one line:e:"
   ]
  },
  {
   "cell_type": "code",
   "execution_count": 34,
   "id": "2ae80bbc-15c6-4f31-b520-796003924094",
   "metadata": {},
   "outputs": [
    {
     "name": "stdout",
     "output_type": "stream",
     "text": [
      "Orange\n",
      "Banana\n",
      "Cherry\n"
     ]
    }
   ],
   "source": [
    "x, y, z = \"Orange\", \"Banana\", \"Cherry\"\n",
    "print(x)\n",
    "print(y)\n",
    "print(z)"
   ]
  },
  {
   "cell_type": "markdown",
   "id": "c5473048-ab3e-4987-bc23-2c15390d2861",
   "metadata": {},
   "source": [
    "#### One Value to Multiple Variables\n",
    "- And you can assign the same value to multiple variables in one line::"
   ]
  },
  {
   "cell_type": "code",
   "execution_count": 37,
   "id": "d1d4f0a2-d436-470b-8c66-3770dddbe1c5",
   "metadata": {},
   "outputs": [
    {
     "name": "stdout",
     "output_type": "stream",
     "text": [
      "Orange\n",
      "Orange\n",
      "Orange\n"
     ]
    }
   ],
   "source": [
    "x = y = z = \"Orange\"\n",
    "print(x)\n",
    "print(y)\n",
    "print(z)"
   ]
  },
  {
   "cell_type": "code",
   "execution_count": null,
   "id": "cc2458c8-2a77-42bc-ab71-36337aae8d35",
   "metadata": {},
   "outputs": [],
   "source": []
  }
 ],
 "metadata": {
  "kernelspec": {
   "display_name": "Python 3 (ipykernel)",
   "language": "python",
   "name": "python3"
  },
  "language_info": {
   "codemirror_mode": {
    "name": "ipython",
    "version": 3
   },
   "file_extension": ".py",
   "mimetype": "text/x-python",
   "name": "python",
   "nbconvert_exporter": "python",
   "pygments_lexer": "ipython3",
   "version": "3.12.4"
  }
 },
 "nbformat": 4,
 "nbformat_minor": 5
}
